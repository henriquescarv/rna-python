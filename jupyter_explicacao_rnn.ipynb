{
  "cells": [
    {
      "cell_type": "markdown",
      "metadata": {
        "id": "IIiZqdG0HGDU"
      },
      "source": [
        "# Rede Neural - Atualizada com GIT"
      ]
    },
    {
      "cell_type": "markdown",
      "metadata": {
        "id": "bFDyk76wHv0A"
      },
      "source": [
        "## Instalação e import das dependências"
      ]
    },
    {
      "cell_type": "code",
      "execution_count": null,
      "metadata": {
        "colab": {
          "base_uri": "https://localhost:8080/"
        },
        "id": "Cl_LSLocHjQR",
        "outputId": "c3937b14-f9d2-43a0-9f0c-677552208788"
      },
      "outputs": [
        {
          "ename": "",
          "evalue": "",
          "output_type": "error",
          "traceback": [
            "\u001b[1;31mA execução de células com 'rna (Python 3.11.2)' requer o pacote ipykernel.\n",
            "\u001b[1;31mExecute o seguinte comando para instalar \"ipykernel\" no ambiente do Python. \n",
            "\u001b[1;31mComando: \"c:/Users/manue/Documents/UFSC/aprendizado-de-maquina/rna-python/rna/Scripts/python.exe -m pip install ipykernel -U --force-reinstall\""
          ]
        }
      ],
      "source": [
        "!pip install ucimlrepo"
      ]
    },
    {
      "cell_type": "code",
      "execution_count": 2,
      "metadata": {
        "id": "YxSYmIqvHMRk"
      },
      "outputs": [],
      "source": [
        "import numpy as np\n",
        "import pandas as pd\n",
        "import kagglehub\n",
        "import os\n",
        "import pandas\n",
        "import matplotlib.pyplot as plt\n",
        "from sklearn.model_selection import train_test_split\n",
        "from ucimlrepo import fetch_ucirepo"
      ]
    },
    {
      "cell_type": "markdown",
      "metadata": {
        "id": "SLggo7M3Hz5J"
      },
      "source": [
        "---\n",
        "## Tratamento dos dados\n"
      ]
    },
    {
      "cell_type": "code",
      "execution_count": 3,
      "metadata": {
        "id": "uHvVTGiuI1ac"
      },
      "outputs": [],
      "source": [
        "# Função para normalizar os dados\n",
        "def normalize(data):\n",
        "    return (data - np.mean(data, axis=0)) / np.std(data, axis=0)"
      ]
    },
    {
      "cell_type": "markdown",
      "metadata": {
        "id": "yQ2RuQMyJNdM"
      },
      "source": [
        "Download do dataset e tratamento dos dados de classificação binária"
      ]
    },
    {
      "cell_type": "code",
      "execution_count": 4,
      "metadata": {
        "id": "5yb0uRMAH9Ji"
      },
      "outputs": [],
      "source": [
        "# Carregar o dataset do câncer\n",
        "cancer_dataset_path = kagglehub.dataset_download(\"yasserh/breast-cancer-dataset\")\n",
        "cancer_dataset = os.listdir(cancer_dataset_path)[0]\n",
        "cancer_csv = pandas.read_csv(os.path.join(cancer_dataset_path, cancer_dataset))\n",
        "\n",
        "# Preparar os dados\n",
        "df = cancer_csv.drop(columns=[\"id\"])  # Remover coluna irrelevante\n",
        "df[\"diagnosis\"] = df[\"diagnosis\"].map({\"M\": 1, \"B\": 0})  # Mapear M/B para 1/0\n",
        "\n",
        "# Selecionar variáveis independentes (X) e dependentes (y)\n",
        "X = df.drop(columns=[\"diagnosis\"]).values\n",
        "y = df[\"diagnosis\"].values.reshape(-1, 1)\n",
        "\n",
        "# Dividindo o dataset\n",
        "X_train, X_test, y_train, y_test = train_test_split(X, y, test_size=0.2, random_state=42)\n",
        "\n",
        "# Preparação dos dados (treinamento)\n",
        "X_train_normalized = normalize(X_train)\n",
        "y_train_normalized = y_train\n",
        "\n",
        "# Preparação dos dados (teste)\n",
        "X_test_normalized = normalize(X_test)\n",
        "y_test_normalized = y_test"
      ]
    },
    {
      "cell_type": "markdown",
      "metadata": {
        "id": "_gXbAMzMIBlF"
      },
      "source": [
        "Download do dataset e tratamento dos dados de regressão"
      ]
    },
    {
      "cell_type": "code",
      "execution_count": 4,
      "metadata": {
        "id": "nc3gAB34IDSJ"
      },
      "outputs": [],
      "source": [
        "# Carregar o dataset de performance de estudantes\n",
        "data_path = kagglehub.dataset_download('nikhil7280/student-performance-multiple-linear-regression')\n",
        "dataset = os.listdir(data_path)[0]\n",
        "data_csv = pd.read_csv(os.path.join(data_path, dataset))\n",
        "\n",
        "# Selecionar variáveis independentes (X) e dependentes (y)\n",
        "X = data_csv[['Hours Studied', 'Previous Scores', 'Sleep Hours', 'Sample Question Papers Practiced']].values\n",
        "y = data_csv['Performance Index'].values\n",
        "y = normalize(y.reshape(-1, 1))\n",
        "\n",
        "# Dividindo o dataset\n",
        "X_train, X_test, y_train, y_test = train_test_split(X, y, test_size=0.2, random_state=42)\n",
        "\n",
        "# Preparação dos dados (treinamento)\n",
        "X_train_normalized = normalize(X_train)\n",
        "y_train_normalized = y_train\n",
        "\n",
        "# Preparação dos dados (teste)\n",
        "X_test_normalized = normalize(X_test)\n",
        "y_test_normalized = y_test"
      ]
    },
    {
      "cell_type": "markdown",
      "metadata": {
        "id": "ApwkXMbnIIg0"
      },
      "source": [
        "Download do dataset e tratamento dos dados de classificação multiclasse"
      ]
    },
    {
      "cell_type": "code",
      "execution_count": 4,
      "metadata": {
        "id": "0wvVZCO9IILH"
      },
      "outputs": [],
      "source": [
        "# Carregar o dataset do zoologico\n",
        "zoo = fetch_ucirepo(id=111)\n",
        "\n",
        "# Selecionar variáveis independentes (X) e dependentes (y)\n",
        "X = zoo.data.features\n",
        "y = zoo.data.targets\n",
        "\n",
        "# Aplicando One-Hot Encoding\n",
        "X = pd.get_dummies(X, columns=['legs'], prefix='legs', dtype=int)\n",
        "y_onehot = pd.get_dummies(y, columns=['type'], prefix='type', dtype=int)\n",
        "\n",
        "X = X.to_numpy()\n",
        "y_onehot = y_onehot.to_numpy()\n",
        "\n",
        "# Dividindo o dataset\n",
        "X_train, X_test, y_train, y_test = train_test_split(X, y_onehot, test_size=0.2, random_state=42)"
      ]
    },
    {
      "cell_type": "markdown",
      "metadata": {
        "id": "IMQ669BDJFY3"
      },
      "source": [
        "---\n",
        "## Instanciando Rede Neural"
      ]
    },
    {
      "cell_type": "markdown",
      "metadata": {
        "id": "XM8cA9hDJqy6"
      },
      "source": [
        "### Iniciando funções de ativação"
      ]
    },
    {
      "cell_type": "code",
      "execution_count": 5,
      "metadata": {
        "id": "0_w4tr7QJ0o_"
      },
      "outputs": [],
      "source": [
        "# Funções de ativação (ReLU para camadas ocultas, as outras para a saída)\n",
        "def relu(z):\n",
        "    return np.maximum(0, z)\n",
        "\n",
        "def relu_derivative(x):\n",
        "    return (x > 0).astype(float)\n",
        "\n",
        "def sigmoid(z):\n",
        "    z = np.clip(z, -500, 500)  # Limita valores extremos p/ evitar overflow\n",
        "    return 1 / (1 + np.exp(-z))\n",
        "\n",
        "def sigmoid_derivative(z):\n",
        "    s = sigmoid(z)\n",
        "    return s * (1 - s)\n",
        "\n",
        "def linear(x):\n",
        "    return x\n",
        "\n",
        "def linear_derivative(x):\n",
        "    return np.ones_like(x)\n",
        "\n",
        "def softmax(z):\n",
        "    exp_z = np.exp(z - np.max(z, axis=1, keepdims=True))  # Para evitar overflow\n",
        "    return exp_z / np.sum(exp_z, axis=1, keepdims=True)"
      ]
    },
    {
      "cell_type": "markdown",
      "metadata": {
        "id": "2TJmLujFJ_Kd"
      },
      "source": [
        "* A função ReLU transforma todos os valores negativos em zero e mantém os valores positivos. É muito utilizada em redes neurais, especialmente nas camadas ocultas.\n",
        "* A derivada da ReLU é usada na retropropagação. Ela retorna 1 se o valor for maior que zero e 0 caso contrário.\n",
        "* A função sigmoid transforma os valores para um intervalo entre 0 e 1, frequentemente usada em problemas de classificação binária. O np.clip é usado para evitar valores extremos que podem causar overflow de exponenciação.\n",
        "* A derivada da sigmoid é importante para a retropropagação. Ela calcula o gradiente da função em relação à sua entrada.\n",
        "* A função linear não altera o valor, ou seja, ela simplesmente retorna a entrada. Usada em tarefas de regressão.\n",
        "* A derivada da função linear é 1, pois a taxa de variação de uma reta é constante.\n",
        "* A função softmax é usada em problemas de classificação multiclasse. Ela transforma os valores em probabilidades, onde a soma das probabilidades para todas as classes é 1. A subtração do np.max(z) ajuda a evitar overflow ao calcular exponenciais."
      ]
    },
    {
      "cell_type": "markdown",
      "metadata": {
        "id": "lxt8QME-KeBh"
      },
      "source": [
        "### Iniciando funções de perda"
      ]
    },
    {
      "cell_type": "code",
      "execution_count": 6,
      "metadata": {
        "id": "XA7qWGTFKCDR"
      },
      "outputs": [],
      "source": [
        "# Funções de perda\n",
        "def mse_loss(y_true, y_pred): # Erro quadrático médio\n",
        "    return np.mean((y_true - y_pred) ** 2)\n",
        "\n",
        "def mse_loss_derivative(y_true, y_pred):\n",
        "    return -2 * (y_true - y_pred) / y_true.size\n",
        "\n",
        "def binary_crossentropy_loss(y_true, y_pred): # Entropria cruzada binária\n",
        "    epsilon = 1e-15  # Evitar log(0)\n",
        "    y_pred = np.clip(y_pred, epsilon, 1 - epsilon)\n",
        "    return -np.mean(y_true * np.log(y_pred) + (1 - y_true) * np.log(1 - y_pred))\n",
        "\n",
        "def binary_crossentropy_loss_derivative(y_true, y_pred):\n",
        "    return y_pred - y_true\n",
        "\n",
        "def categorical_crossentropy_loss(y_true, y_pred): # Entropria cruzada categórica\n",
        "    epsilon = 1e-15\n",
        "    y_pred = np.clip(y_pred, epsilon, 1 - epsilon)\n",
        "    return -np.mean(np.sum(y_true * np.log(y_pred), axis=1))\n",
        "\n",
        "def categorical_crossentropy_loss_derivative(y_true, y_pred):\n",
        "    return y_pred - y_true"
      ]
    },
    {
      "cell_type": "markdown",
      "metadata": {
        "id": "f15Kkk6FKn16"
      },
      "source": [
        "* O erro quadrático médio calcula a diferença entre o valor real e o valor predito, elevando ao quadrado para penalizar mais grandes erros.\n",
        "* A derivada da função MSE é usada para calcular o gradiente durante a retropropagação.\n",
        "* Cross-Entropy (binária e categórica): A função de perda de entropia cruzada é usada para problemas de classificação (binária e multiclasse). A ideia básica é que, se a probabilidade predita estiver próxima da verdadeira classe, a perda será pequena. Caso contrário, será grande.\n",
        "* A derivada da entropria cruzada é utilizada durante a retropropagação."
      ]
    },
    {
      "cell_type": "markdown",
      "metadata": {
        "id": "4isVZzzHLTPM"
      },
      "source": [
        "### Iniciando estrutura da Rede Neural"
      ]
    },
    {
      "cell_type": "code",
      "execution_count": 7,
      "metadata": {
        "id": "GkwCIrOmLWyb"
      },
      "outputs": [],
      "source": [
        "class NeuralNetwork:\n",
        "    def __init__(self, input_size, hidden_size, output_size, learning_rate, output_activation='linear'):\n",
        "        self.learning_rate = learning_rate\n",
        "        self.output_activation = output_activation\n",
        "\n",
        "        # Inicialização dos pesos e bias\n",
        "        self.weights_input_hidden = np.random.randn(input_size, hidden_size) * 0.01\n",
        "        self.bias_hidden = np.zeros((1, hidden_size))\n",
        "\n",
        "        self.weights_hidden_output = np.random.randn(hidden_size, output_size) * 0.01\n",
        "        self.bias_output = np.zeros((1, output_size))\n",
        "\n",
        "    def forward(self, X):\n",
        "        self.hidden_input = np.dot(X, self.weights_input_hidden) + self.bias_hidden\n",
        "        self.hidden_output = relu(self.hidden_input)\n",
        "        self.final_input = np.dot(self.hidden_output, self.weights_hidden_output) + self.bias_output\n",
        "\n",
        "        if self.output_activation == 'linear':\n",
        "          self.final_output = linear(self.final_input)\n",
        "\n",
        "        elif self.output_activation == 'sigmoid':\n",
        "          self.final_output = sigmoid(self.final_input)\n",
        "\n",
        "        elif self.output_activation == 'softmax':\n",
        "          self.final_output = softmax(self.final_input)\n",
        "\n",
        "        return self.final_output\n",
        "\n",
        "    def backward(self, X, y, y_pred, loss_derivative):\n",
        "        # Erro na saída\n",
        "        if self.output_activation == 'linear':\n",
        "          output_error = loss_derivative(y, y_pred) * linear_derivative(self.final_input)\n",
        "\n",
        "        elif self.output_activation == 'sigmoid':\n",
        "          output_error = loss_derivative(y, y_pred) * sigmoid_derivative(self.final_input)\n",
        "\n",
        "        elif self.output_activation == 'softmax':\n",
        "          output_error = loss_derivative(y, y_pred)\n",
        "\n",
        "        # Gradientes para pesos e bias da saída\n",
        "        weights_hidden_output_grad = np.dot(self.hidden_output.T, output_error)\n",
        "        bias_output_grad = np.sum(output_error, axis=0, keepdims=True)\n",
        "\n",
        "        # Erro na camada oculta\n",
        "        hidden_error = np.dot(output_error, self.weights_hidden_output.T) * relu_derivative(self.hidden_input)\n",
        "\n",
        "        # Gradientes para pesos e bias da camada oculta\n",
        "        weights_input_hidden_grad = np.dot(X.T, hidden_error)\n",
        "        bias_hidden_grad = np.sum(hidden_error, axis=0, keepdims=True)\n",
        "\n",
        "        # Atualização dos pesos e biases\n",
        "        self.weights_hidden_output -= self.learning_rate * weights_hidden_output_grad\n",
        "        self.bias_output -= self.learning_rate * bias_output_grad\n",
        "\n",
        "        self.weights_input_hidden -= self.learning_rate * weights_input_hidden_grad\n",
        "        self.bias_hidden -= self.learning_rate * bias_hidden_grad\n",
        "\n",
        "    def train(self, X_train, y_train, epochs, loss_function, loss_derivative, X_test=None, y_test=None):\n",
        "        train_losses = []\n",
        "        test_losses = []\n",
        "\n",
        "        for epoch in range(epochs):\n",
        "            # Forward\n",
        "            y_train_pred = self.forward(X_train)\n",
        "\n",
        "            # Cálculo do erro dos dados de treinamento\n",
        "            train_loss = loss_function(y_train, y_train_pred)\n",
        "            self.backward(X_train, y_train, y_train_pred, loss_derivative)\n",
        "            train_losses.append(train_loss)\n",
        "\n",
        "            # Cálculo do erro dos dados de teste sem atualização de parâmetros\n",
        "            if X_test is not None and y_test is not None:\n",
        "              y_test_pred = self.forward(X_test)\n",
        "              test_loss = loss_function(y_test, y_test_pred)\n",
        "              test_losses.append(test_loss)\n",
        "\n",
        "            if epoch % 10 == 0:\n",
        "                print(f\"Epoch {epoch} -> Train Loss: {train_loss:.4f}, Test Loss: {test_loss if X_test is not None else 'N/A'}\")\n",
        "\n",
        "        return train_losses, test_losses\n",
        "\n",
        "    def predict(self, X, type):\n",
        "      if type == 'binary':\n",
        "        y_pred = self.forward(X)\n",
        "        return (y_pred > 0.5).astype(int)  # Classificação binária\n",
        "\n",
        "      if type == 'multiclass':\n",
        "        y_pred = self.forward(X)\n",
        "        return np.argmax(y_pred, axis=1)  # Classificação multiclasse"
      ]
    },
    {
      "cell_type": "markdown",
      "metadata": {
        "id": "qW8Xl7ggLc9N"
      },
      "source": [
        "1. `__init__`\n",
        "* Parâmetros: Inicializa os parâmetros necessários (tamanho da entrada, tamanho da camada oculta, tamanho da saída, taxa de aprendizado, tipo de ativação da saída).\n",
        "* Pesos e vieses: Os pesos são inicializados com valores aleatórios pequenos (multiplicados por 0.01 para evitar valores grandes), e os vieses são inicializados como zeros."
      ]
    },
    {
      "cell_type": "markdown",
      "metadata": {
        "id": "SPmatUc-Litg"
      },
      "source": [
        "2. `forward`\n",
        "* Entrada na camada oculta: A entrada X é multiplicada pelos pesos e somada com o viés.\n",
        "* Ativação da camada oculta: A função ReLU é aplicada.\n",
        "* Entrada na camada de saída: A saída da camada oculta é multiplicada pelos pesos da camada de saída e somada com o viés de saída.\n",
        "* Função de ativação na camada de saída: A ativação apropriada é aplicada dependendo do parâmetro output_activation."
      ]
    },
    {
      "cell_type": "markdown",
      "metadata": {
        "id": "k8DMfuMELtTb"
      },
      "source": [
        "3. `backward`\n",
        "\n",
        "A retropropagação calcula o erro da saída e propaga esse erro de volta para as camadas anteriores. Os gradientes para os pesos e vieses são calculados e depois usados para atualizar os parâmetros."
      ]
    },
    {
      "cell_type": "markdown",
      "metadata": {
        "id": "CK-ELD57L4aQ"
      },
      "source": [
        "4. `train`\n",
        "\n",
        "O método train treina o modelo em X_train e y_train por um número de epochs, calculando a perda para os dados de treinamento e, opcionalmente, para os dados de teste. A cada 50 épocas, o progresso é impresso."
      ]
    },
    {
      "cell_type": "markdown",
      "metadata": {
        "id": "UVJIJypSMK58"
      },
      "source": [
        "Para classificação binária:\n",
        "1. self.forward(X): A entrada X é passada pela rede para gerar as previsões. A função forward retorna os valores de saída da rede neural.\n",
        "2. (y_pred > 0.5): A saída da rede geralmente estará no intervalo [0, 1] (como no caso de uma função de ativação sigmoide na camada de saída). O valor de 0.5 é usado como limiar. Se a previsão for maior que 0.5, a classe predita será 1, caso contrário, será 0.\n",
        "3. O .astype(int): Converte as previsões para valores inteiros (0 ou 1)."
      ]
    },
    {
      "cell_type": "markdown",
      "metadata": {
        "id": "aVFpoHQyMWoz"
      },
      "source": [
        "5. `predict`\n",
        "\n",
        "Para classificação multiclasse:\n",
        "1. self.forward(X): Como na classificação binária, a entrada X passa pela rede e as previsões são geradas.\n",
        "2. np.argmax(y_pred, axis=1): A rede neural gera uma distribuição de probabilidades para cada classe (geralmente com a função de ativação softmax na camada de saída).\n",
        "3. O np.argmax retorna o índice da classe com a maior probabilidade, o que corresponde à previsão da classe final."
      ]
    },
    {
      "cell_type": "markdown",
      "metadata": {
        "id": "2Y3-uyg4MpeN"
      },
      "source": [
        "---\n",
        "## Treinamento dos modelos"
      ]
    },
    {
      "cell_type": "markdown",
      "metadata": {
        "id": "UYZcSKmSMxwj"
      },
      "source": [
        "### Classificação binária"
      ]
    },
    {
      "cell_type": "code",
      "execution_count": 8,
      "metadata": {
        "id": "uPfexYcjM4sA"
      },
      "outputs": [],
      "source": [
        "input_size = X_train_normalized.shape[1]\n",
        "hidden_size = 10 # Camada oculta\n",
        "output_size = y_train_normalized.shape[1] # Número de classes\n",
        "learning_rate = 0.01 # Taxa de aprendizado\n",
        "epochs = 100 # Épocas"
      ]
    },
    {
      "cell_type": "markdown",
      "metadata": {
        "id": "MEuPOuRRNUnw"
      },
      "source": [
        "Definindo hiperparâmetros"
      ]
    },
    {
      "cell_type": "code",
      "execution_count": 9,
      "metadata": {
        "colab": {
          "base_uri": "https://localhost:8080/"
        },
        "id": "5W2CjkdgNGVd",
        "outputId": "e998d903-31b9-421a-a980-b492cb7a3a7b"
      },
      "outputs": [
        {
          "name": "stdout",
          "output_type": "stream",
          "text": [
            "Epoch 0 -> Train Loss: 0.6930, Test Loss: 0.67608668219795\n",
            "Epoch 10 -> Train Loss: 0.1711, Test Loss: 0.13688268561378825\n",
            "Epoch 20 -> Train Loss: 0.0969, Test Loss: 0.08487834113403424\n",
            "Epoch 30 -> Train Loss: 0.0776, Test Loss: 0.07104181979686548\n",
            "Epoch 40 -> Train Loss: 0.0686, Test Loss: 0.06495774902836896\n",
            "Epoch 50 -> Train Loss: 0.0631, Test Loss: 0.06171180287332237\n",
            "Epoch 60 -> Train Loss: 0.0593, Test Loss: 0.05968366093998239\n",
            "Epoch 70 -> Train Loss: 0.0564, Test Loss: 0.05848090221833126\n",
            "Epoch 80 -> Train Loss: 0.0540, Test Loss: 0.05778551615889801\n",
            "Epoch 90 -> Train Loss: 0.0519, Test Loss: 0.05737308471811462\n"
          ]
        }
      ],
      "source": [
        "# Inicializando a rede neural\n",
        "nn = NeuralNetwork(input_size, hidden_size, output_size, learning_rate, output_activation='sigmoid')\n",
        "\n",
        "# Treinando a rede\n",
        "train_losses, test_losses = nn.train(X_train_normalized, y_train_normalized, epochs,\n",
        "                                     binary_crossentropy_loss, binary_crossentropy_loss_derivative,\n",
        "                                     X_test=X_test_normalized, y_test=y_test_normalized)"
      ]
    },
    {
      "cell_type": "markdown",
      "metadata": {
        "id": "Ea_gkZXBNZPN"
      },
      "source": [
        "A classe NeuralNetwork é instanciada com os hiperparâmetros definidos anteriormente.\n",
        "A rede neural é treinada usando a função train, passando os dados de treino e teste, a função de perda (binary_crossentropy_loss) e sua derivada (binary_crossentropy_loss_derivative)."
      ]
    },
    {
      "cell_type": "code",
      "execution_count": 10,
      "metadata": {
        "colab": {
          "base_uri": "https://localhost:8080/",
          "height": 509
        },
        "id": "cHpJ4mmbNNHj",
        "outputId": "5e3e402b-0ba9-4844-ef6f-e6a122e76da8"
      },
      "outputs": [
        {
          "name": "stdout",
          "output_type": "stream",
          "text": [
            "Acurácia no conjunto de dados de treinamento: 98.68%\n",
            "Acurácia no conjunto de dados de teste: 98.25%\n"
          ]
        },
        {
          "data": {
            "image/png": "[encoded data removed]",
            "text/plain": [
              "<Figure size 640x480 with 1 Axes>"
            ]
          },
          "metadata": {},
          "output_type": "display_data"
        }
      ],
      "source": [
        "# Avaliação dos dados de treinamento\n",
        "y_pred_train = nn.predict(X_train_normalized, 'binary')\n",
        "accuracy_train = np.mean(y_pred_train == y_train_normalized) * 100\n",
        "print(f\"Acurácia no conjunto de dados de treinamento: {accuracy_train:.2f}%\")\n",
        "\n",
        "# Avaliação dos dados de teste\n",
        "y_pred_test = nn.predict(X_test_normalized, 'binary')\n",
        "accuracy_test = np.mean(y_pred_test == y_test_normalized) * 100\n",
        "print(f\"Acurácia no conjunto de dados de teste: {accuracy_test:.2f}%\")\n",
        "\n",
        "# Gráfico das perdas\n",
        "plt.plot(train_losses, label=\"Treinamento\")\n",
        "plt.plot(test_losses, label=\"Teste\")\n",
        "plt.title(\"Erro ao longo das épocas\")\n",
        "plt.xlabel(\"Épocas\")\n",
        "plt.ylabel(\"Erro\")\n",
        "plt.legend()\n",
        "plt.show()"
      ]
    },
    {
      "cell_type": "markdown",
      "metadata": {
        "id": "x8h4L2SsNdbZ"
      },
      "source": [
        "### Regressão"
      ]
    },
    {
      "cell_type": "code",
      "execution_count": 11,
      "metadata": {
        "id": "Iit1kaJDOt2-"
      },
      "outputs": [],
      "source": [
        "# Função para calcular o coeficiente de determinação (R2) para o problema de regressão\n",
        "def r2_score(y_true, y_pred):\n",
        "    ss_total = np.sum((y_true - np.mean(y_true)) ** 2)\n",
        "    ss_residual = np.sum((y_true - y_pred) ** 2)\n",
        "    return 1 - (ss_residual / ss_total)"
      ]
    },
    {
      "cell_type": "markdown",
      "metadata": {
        "id": "dWNZQpKEOyYu"
      },
      "source": [
        "Essa função calcula o coeficiente de determinação (R²), que é usado em regressão para medir a qualidade do ajuste do modelo.\n"
      ]
    },
    {
      "cell_type": "code",
      "execution_count": 12,
      "metadata": {
        "id": "JjR-G5hyNoIZ"
      },
      "outputs": [],
      "source": [
        "input_size = X_train_normalized.shape[1]\n",
        "hidden_size = 10 # Camada oculta\n",
        "output_size = 1 # Número de classes\n",
        "learning_rate = 0.1 # Taxa de aprendizado\n",
        "epochs = 600 # Épocas\n"
      ]
    },
    {
      "cell_type": "markdown",
      "metadata": {
        "id": "_pJUiHElNpHn"
      },
      "source": [
        "Definindo hiperparâmetros\n"
      ]
    },
    {
      "cell_type": "code",
      "execution_count": 13,
      "metadata": {
        "colab": {
          "base_uri": "https://localhost:8080/"
        },
        "id": "ljT0IlTdNp3V",
        "outputId": "d02c0b40-fcbc-4213-e8b1-201497db97f7"
      },
      "outputs": [
        {
          "name": "stdout",
          "output_type": "stream",
          "text": [
            "Epoch 0 -> Train Loss: 0.9984, Test Loss: 1.003673132574136\n",
            "Epoch 10 -> Train Loss: 0.9904, Test Loss: 0.9939390698634473\n",
            "Epoch 20 -> Train Loss: 0.9135, Test Loss: 0.9003324207077302\n",
            "Epoch 30 -> Train Loss: 0.5153, Test Loss: 0.47429748764245294\n",
            "Epoch 40 -> Train Loss: 0.1376, Test Loss: 0.12888012157580994\n",
            "Epoch 50 -> Train Loss: 0.0511, Test Loss: 0.05207711880015074\n",
            "Epoch 60 -> Train Loss: 0.0351, Test Loss: 0.0357904226300312\n",
            "Epoch 70 -> Train Loss: 0.0285, Test Loss: 0.02912612022658385\n",
            "Epoch 80 -> Train Loss: 0.0253, Test Loss: 0.026013711279205723\n",
            "Epoch 90 -> Train Loss: 0.0238, Test Loss: 0.02445975025464412\n",
            "Epoch 100 -> Train Loss: 0.0230, Test Loss: 0.023637581531612682\n",
            "Epoch 110 -> Train Loss: 0.0226, Test Loss: 0.02315814690243411\n",
            "Epoch 120 -> Train Loss: 0.0222, Test Loss: 0.022793614683753342\n",
            "Epoch 130 -> Train Loss: 0.0219, Test Loss: 0.02246474507522062\n",
            "Epoch 140 -> Train Loss: 0.0215, Test Loss: 0.022118992374685734\n",
            "Epoch 150 -> Train Loss: 0.0212, Test Loss: 0.021755773377269215\n",
            "Epoch 160 -> Train Loss: 0.0208, Test Loss: 0.021367025143684992\n",
            "Epoch 170 -> Train Loss: 0.0203, Test Loss: 0.02095962701477117\n",
            "Epoch 180 -> Train Loss: 0.0199, Test Loss: 0.020519310652312918\n",
            "Epoch 190 -> Train Loss: 0.0194, Test Loss: 0.020068901213439388\n",
            "Epoch 200 -> Train Loss: 0.0189, Test Loss: 0.019601521536072482\n",
            "Epoch 210 -> Train Loss: 0.0184, Test Loss: 0.01912954285109884\n",
            "Epoch 220 -> Train Loss: 0.0180, Test Loss: 0.018656955162716267\n",
            "Epoch 230 -> Train Loss: 0.0175, Test Loss: 0.01817582451262714\n",
            "Epoch 240 -> Train Loss: 0.0170, Test Loss: 0.017699444693073222\n",
            "Epoch 250 -> Train Loss: 0.0165, Test Loss: 0.017241445014564497\n",
            "Epoch 260 -> Train Loss: 0.0161, Test Loss: 0.01679511150930496\n",
            "Epoch 270 -> Train Loss: 0.0157, Test Loss: 0.016368466214004018\n",
            "Epoch 280 -> Train Loss: 0.0153, Test Loss: 0.01597692216539528\n",
            "Epoch 290 -> Train Loss: 0.0150, Test Loss: 0.015615883871385038\n",
            "Epoch 300 -> Train Loss: 0.0147, Test Loss: 0.015288313657323116\n",
            "Epoch 310 -> Train Loss: 0.0144, Test Loss: 0.014992396378044108\n",
            "Epoch 320 -> Train Loss: 0.0141, Test Loss: 0.014726201533470075\n",
            "Epoch 330 -> Train Loss: 0.0139, Test Loss: 0.014493202796416629\n",
            "Epoch 340 -> Train Loss: 0.0137, Test Loss: 0.014284992534076576\n",
            "Epoch 350 -> Train Loss: 0.0135, Test Loss: 0.014103143863792059\n",
            "Epoch 360 -> Train Loss: 0.0134, Test Loss: 0.01393799298814514\n",
            "Epoch 370 -> Train Loss: 0.0132, Test Loss: 0.013787555635440535\n",
            "Epoch 380 -> Train Loss: 0.0131, Test Loss: 0.013653827712877572\n",
            "Epoch 390 -> Train Loss: 0.0130, Test Loss: 0.0135299448441876\n",
            "Epoch 400 -> Train Loss: 0.0129, Test Loss: 0.013420230881614013\n",
            "Epoch 410 -> Train Loss: 0.0128, Test Loss: 0.01332421229252921\n",
            "Epoch 420 -> Train Loss: 0.0127, Test Loss: 0.01323741556788964\n",
            "Epoch 430 -> Train Loss: 0.0127, Test Loss: 0.013157573250190858\n",
            "Epoch 440 -> Train Loss: 0.0126, Test Loss: 0.013085756332705489\n",
            "Epoch 450 -> Train Loss: 0.0125, Test Loss: 0.013020028997052815\n",
            "Epoch 460 -> Train Loss: 0.0125, Test Loss: 0.01295793761577221\n",
            "Epoch 470 -> Train Loss: 0.0124, Test Loss: 0.01289918150432356\n",
            "Epoch 480 -> Train Loss: 0.0124, Test Loss: 0.012842206445030282\n",
            "Epoch 490 -> Train Loss: 0.0123, Test Loss: 0.012790299429363673\n",
            "Epoch 500 -> Train Loss: 0.0123, Test Loss: 0.012741282287099778\n",
            "Epoch 510 -> Train Loss: 0.0123, Test Loss: 0.012693811996077817\n",
            "Epoch 520 -> Train Loss: 0.0122, Test Loss: 0.012649087216484254\n",
            "Epoch 530 -> Train Loss: 0.0122, Test Loss: 0.012606283299257169\n",
            "Epoch 540 -> Train Loss: 0.0121, Test Loss: 0.012568270623341338\n",
            "Epoch 550 -> Train Loss: 0.0121, Test Loss: 0.012531575890186065\n",
            "Epoch 560 -> Train Loss: 0.0121, Test Loss: 0.01249837478776184\n",
            "Epoch 570 -> Train Loss: 0.0121, Test Loss: 0.012466155327351342\n",
            "Epoch 580 -> Train Loss: 0.0120, Test Loss: 0.012436978533326844\n",
            "Epoch 590 -> Train Loss: 0.0120, Test Loss: 0.012409804039336822\n"
          ]
        }
      ],
      "source": [
        "# Inicializando a rede neural\n",
        "nn = NeuralNetwork(input_size, hidden_size, output_size, learning_rate)\n",
        "\n",
        "# Treinando a rede\n",
        "train_losses, test_losses = nn.train(X_train_normalized, y_train_normalized, epochs,\n",
        "                                     mse_loss, mse_loss_derivative,\n",
        "                                     X_test=X_test_normalized, y_test=y_test_normalized)"
      ]
    },
    {
      "cell_type": "markdown",
      "metadata": {
        "id": "MMhrOV2eNt5U"
      },
      "source": [
        "A classe NeuralNetwork é instanciada com os hiperparâmetros definidos anteriormente. A rede neural é treinada usando a função train, passando os dados de treino e teste, a função de perda (mse_loss) e sua derivada (mse_loss_derivative)."
      ]
    },
    {
      "cell_type": "code",
      "execution_count": 14,
      "metadata": {
        "colab": {
          "base_uri": "https://localhost:8080/",
          "height": 509
        },
        "id": "s7o4xaaMNy7Y",
        "outputId": "2dca2cd6-cab1-4851-e251-01781759e310"
      },
      "outputs": [
        {
          "name": "stdout",
          "output_type": "stream",
          "text": [
            "Coeficiente de Determinação (R2) - treinamento: 0.9879944088668245\n",
            "Coeficiente de Determinação (R2) - teste: 0.9876634590452805\n"
          ]
        },
        {
          "data": {
            "image/png": "[encoded data removed]",
            "text/plain": [
              "<Figure size 640x480 with 1 Axes>"
            ]
          },
          "metadata": {},
          "output_type": "display_data"
        }
      ],
      "source": [
        "# Avaliação dos dados de treinamento\n",
        "y_train_pred = nn.forward(X_train_normalized)\n",
        "r2_train = r2_score(y_train_normalized, y_train_pred)\n",
        "print(f\"Coeficiente de Determinação (R2) - treinamento: {r2_train}\")\n",
        "\n",
        "# Avaliação dos dados de teste\n",
        "y_test_pred = nn.forward(X_test_normalized)\n",
        "r2_test = r2_score(y_test_normalized, y_test_pred)\n",
        "print(f\"Coeficiente de Determinação (R2) - teste: {r2_test}\")\n",
        "\n",
        "# Gráfico das perdas\n",
        "plt.plot(train_losses, label=\"Treinamento\")\n",
        "plt.plot(test_losses, label=\"Teste\")\n",
        "plt.title(\"Erro ao longo das épocas\")\n",
        "plt.xlabel(\"Épocas\")\n",
        "plt.ylabel(\"Erro\")\n",
        "plt.legend()\n",
        "plt.show()"
      ]
    },
    {
      "cell_type": "markdown",
      "metadata": {
        "id": "5DXvs_fhN1mm"
      },
      "source": [
        "### Classificação multiclasse"
      ]
    },
    {
      "cell_type": "code",
      "execution_count": 8,
      "metadata": {
        "id": "Dqlmm8eON3ro"
      },
      "outputs": [],
      "source": [
        "input_size = X_train.shape[1]\n",
        "hidden_size = 250 # Camada oculta\n",
        "output_size = y_train.shape[1]  # Número de classes\n",
        "learning_rate = 0.01 # Taxa de aprendizado\n",
        "epochs = 70 # Épocas"
      ]
    },
    {
      "cell_type": "markdown",
      "metadata": {
        "id": "T_HtOxkjN8lB"
      },
      "source": [
        "Definindo hiperparâmetros"
      ]
    },
    {
      "cell_type": "code",
      "execution_count": 9,
      "metadata": {
        "colab": {
          "base_uri": "https://localhost:8080/"
        },
        "id": "5h0Dc6VQN7C7",
        "outputId": "b0334174-5c1e-4b09-c560-7db13d3df874"
      },
      "outputs": [
        {
          "name": "stdout",
          "output_type": "stream",
          "text": [
            "Epoch 0 -> Train Loss: 1.9468, Test Loss: 1.837982110712854\n",
            "Epoch 10 -> Train Loss: 0.9514, Test Loss: 0.7473212097287136\n",
            "Epoch 20 -> Train Loss: 0.5351, Test Loss: 0.4878334672638152\n",
            "Epoch 30 -> Train Loss: 0.3227, Test Loss: 0.3093544482560399\n",
            "Epoch 40 -> Train Loss: 0.1914, Test Loss: 0.19778841041223988\n",
            "Epoch 50 -> Train Loss: 0.1233, Test Loss: 0.15819850946262476\n",
            "Epoch 60 -> Train Loss: 0.0851, Test Loss: 0.14562264829130314\n"
          ]
        }
      ],
      "source": [
        "# Inicializando a rede neural\n",
        "nn = NeuralNetwork(input_size, hidden_size, output_size, learning_rate, output_activation='softmax')\n",
        "\n",
        "# Treinando a rede\n",
        "train_losses, test_losses = nn.train(X_train, y_train, epochs,\n",
        "                                     categorical_crossentropy_loss,\n",
        "                                     categorical_crossentropy_loss_derivative,\n",
        "                                     X_test=X_test, y_test=y_test)"
      ]
    },
    {
      "cell_type": "markdown",
      "metadata": {
        "id": "-4nhaeFPN-gn"
      },
      "source": [
        "A classe NeuralNetwork é instanciada com os hiperparâmetros definidos anteriormente mais a função de ativação que, nesse caso, é softmax. A rede neural é treinada usando a função train, passando os dados de treino e teste, a função de perda (categorical_crossentropy_loss) e sua derivada (categorical_crossentropy_loss_derivative)."
      ]
    },
    {
      "cell_type": "code",
      "execution_count": 10,
      "metadata": {
        "colab": {
          "base_uri": "https://localhost:8080/",
          "height": 509
        },
        "id": "vdFngY2XORL8",
        "outputId": "4b5803e9-cbb7-4cea-c631-43aa29e2cea5"
      },
      "outputs": [
        {
          "name": "stdout",
          "output_type": "stream",
          "text": [
            "Acurácia no conjunto de dados de treinamento: 100.00%\n",
            "Acurácia no conjunto de dados de teste: 95.24%\n"
          ]
        },
        {
          "data": {
            "image/png": "[encoded data removed]",
            "text/plain": [
              "<Figure size 640x480 with 1 Axes>"
            ]
          },
          "metadata": {},
          "output_type": "display_data"
        }
      ],
      "source": [
        "# Avaliação dos dados de treinamento\n",
        "y_pred_train = nn.predict(X_train, 'multiclass')\n",
        "accuracy_train = np.mean(np.argmax(y_train, axis=1) == y_pred_train) * 100\n",
        "print(f\"Acurácia no conjunto de dados de treinamento: {accuracy_train:.2f}%\")\n",
        "\n",
        "# Avaliação dos dados de teste\n",
        "y_pred_test = nn.predict(X_test, 'multiclass')\n",
        "accuracy_test = np.mean(np.argmax(y_test, axis=1) == y_pred_test) * 100\n",
        "print(f\"Acurácia no conjunto de dados de teste: {accuracy_test:.2f}%\")\n",
        "\n",
        "# Gráfico das perdas\n",
        "plt.plot(train_losses, label=\"Treinamento\")\n",
        "plt.plot(test_losses, label=\"Teste\")\n",
        "plt.title(\"Erro ao longo das épocas\")\n",
        "plt.xlabel(\"Épocas\")\n",
        "plt.ylabel(\"Erro\")\n",
        "plt.legend()\n",
        "plt.show()"
      ]
    }
  ],
  "metadata": {
    "colab": {
      "provenance": [],
      "toc_visible": true
    },
    "kernelspec": {
      "display_name": "Python 3",
      "name": "python3"
    },
    "language_info": {
      "name": "python",
      "version": "3.11.2"
    }
  },
  "nbformat": 4,
  "nbformat_minor": 0
}
