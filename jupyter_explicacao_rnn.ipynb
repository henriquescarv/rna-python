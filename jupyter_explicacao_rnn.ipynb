{
  "nbformat": 4,
  "nbformat_minor": 0,
  "metadata": {
    "colab": {
      "provenance": [],
      "toc_visible": true
    },
    "kernelspec": {
      "name": "python3",
      "display_name": "Python 3"
    },
    "language_info": {
      "name": "python"
    }
  },
  "cells": [
    {
      "cell_type": "markdown",
      "source": [
        "# Rede Neural"
      ],
      "metadata": {
        "id": "IIiZqdG0HGDU"
      }
    },
    {
      "cell_type": "markdown",
      "source": [
        "## Instalação e import das dependências"
      ],
      "metadata": {
        "id": "bFDyk76wHv0A"
      }
    },
    {
      "cell_type": "code",
      "source": [
        "!pip install ucimlrepo"
      ],
      "metadata": {
        "colab": {
          "base_uri": "https://localhost:8080/"
        },
        "id": "Cl_LSLocHjQR",
        "outputId": "4b384b81-cb70-4172-cfdd-8bcb95421f9a"
      },
      "execution_count": null,
      "outputs": [
        {
          "output_type": "stream",
          "name": "stdout",
          "text": [
            "Requirement already satisfied: ucimlrepo in /usr/local/lib/python3.10/dist-packages (0.0.7)\n",
            "Requirement already satisfied: pandas>=1.0.0 in /usr/local/lib/python3.10/dist-packages (from ucimlrepo) (2.2.2)\n",
            "Requirement already satisfied: certifi>=2020.12.5 in /usr/local/lib/python3.10/dist-packages (from ucimlrepo) (2024.8.30)\n",
            "Requirement already satisfied: numpy>=1.22.4 in /usr/local/lib/python3.10/dist-packages (from pandas>=1.0.0->ucimlrepo) (1.26.4)\n",
            "Requirement already satisfied: python-dateutil>=2.8.2 in /usr/local/lib/python3.10/dist-packages (from pandas>=1.0.0->ucimlrepo) (2.8.2)\n",
            "Requirement already satisfied: pytz>=2020.1 in /usr/local/lib/python3.10/dist-packages (from pandas>=1.0.0->ucimlrepo) (2024.2)\n",
            "Requirement already satisfied: tzdata>=2022.7 in /usr/local/lib/python3.10/dist-packages (from pandas>=1.0.0->ucimlrepo) (2024.2)\n",
            "Requirement already satisfied: six>=1.5 in /usr/local/lib/python3.10/dist-packages (from python-dateutil>=2.8.2->pandas>=1.0.0->ucimlrepo) (1.16.0)\n"
          ]
        }
      ]
    },
    {
      "cell_type": "code",
      "source": [
        "import numpy as np\n",
        "import pandas as pd\n",
        "import kagglehub\n",
        "import os\n",
        "import pandas\n",
        "import matplotlib.pyplot as plt\n",
        "from sklearn.model_selection import train_test_split\n",
        "from ucimlrepo import fetch_ucirepo"
      ],
      "metadata": {
        "id": "YxSYmIqvHMRk"
      },
      "execution_count": null,
      "outputs": []
    },
    {
      "cell_type": "markdown",
      "source": [
        "---\n",
        "## Tratamento dos dados\n"
      ],
      "metadata": {
        "id": "SLggo7M3Hz5J"
      }
    },
    {
      "cell_type": "code",
      "source": [
        "# Função para normalizar os dados\n",
        "def normalize(data):\n",
        "    return (data - np.mean(data, axis=0)) / np.std(data, axis=0)"
      ],
      "metadata": {
        "id": "uHvVTGiuI1ac"
      },
      "execution_count": null,
      "outputs": []
    },
    {
      "cell_type": "markdown",
      "source": [
        "A função de normalização serve para evitarmos a sensibilização devido à escalas dos dados. Logo, ajustando os pesos para uma escala semelhante.\n",
        "\n",
        "1. é feito o cálculo da média do conjunto de características dos dados.\n",
        "2. subtraímos o valor de cada característica pela sua média, calculada anteriormente.\n",
        "3. dividimos o resultado pelo desvio padrão de cada característica (fazendo com que, agora, o desvio padrão de cada característica seja 1)"
      ],
      "metadata": {
        "id": "Y8uVfywHQEHy"
      }
    },
    {
      "cell_type": "markdown",
      "source": [
        "###Dataset - classificação binária"
      ],
      "metadata": {
        "id": "yQ2RuQMyJNdM"
      }
    },
    {
      "cell_type": "code",
      "source": [
        "# Carregar o dataset do câncer\n",
        "cancer_dataset_path = kagglehub.dataset_download(\"yasserh/breast-cancer-dataset\")\n",
        "cancer_dataset = os.listdir(cancer_dataset_path)[0]\n",
        "cancer_csv = pandas.read_csv(os.path.join(cancer_dataset_path, cancer_dataset))\n",
        "\n",
        "# Preparar os dados\n",
        "df = cancer_csv.drop(columns=[\"id\"])  # Remover coluna irrelevante\n",
        "df[\"diagnosis\"] = df[\"diagnosis\"].map({\"M\": 1, \"B\": 0})  # Mapear M/B para 1/0\n",
        "\n",
        "# Selecionar variáveis independentes (X) e dependentes (y)\n",
        "X = df.drop(columns=[\"diagnosis\"]).values\n",
        "y = df[\"diagnosis\"].values.reshape(-1, 1)\n",
        "\n",
        "# Dividindo o dataset\n",
        "X_train, X_test, y_train, y_test = train_test_split(X, y, test_size=0.2, random_state=42)\n",
        "\n",
        "# Preparação dos dados (treinamento)\n",
        "X_train_normalized = normalize(X_train)\n",
        "y_train_normalized = y_train\n",
        "\n",
        "# Preparação dos dados (teste)\n",
        "X_test_normalized = normalize(X_test)\n",
        "y_test_normalized = y_test"
      ],
      "metadata": {
        "id": "5yb0uRMAH9Ji"
      },
      "execution_count": null,
      "outputs": []
    },
    {
      "cell_type": "markdown",
      "source": [
        "###Dataset - regressão"
      ],
      "metadata": {
        "id": "_gXbAMzMIBlF"
      }
    },
    {
      "cell_type": "code",
      "source": [
        "# Carregar o dataset de performance de estudantes\n",
        "data_path = kagglehub.dataset_download('nikhil7280/student-performance-multiple-linear-regression')\n",
        "dataset = os.listdir(data_path)[0]\n",
        "data_csv = pd.read_csv(os.path.join(data_path, dataset))\n",
        "\n",
        "# Selecionar variáveis independentes (X) e dependentes (y)\n",
        "X = data_csv[['Hours Studied', 'Previous Scores', 'Extracurricular Activities', 'Sleep Hours', 'Sample Question Papers Practiced']]\n",
        "X = X.copy()\n",
        "X['Extracurricular Activities'] = X['Extracurricular Activities'].map({'Yes': 1, 'No': 0})\n",
        "X = X.values\n",
        "y = data_csv['Performance Index'].values\n",
        "y = normalize(y.reshape(-1, 1))\n",
        "\n",
        "# Dividindo o dataset\n",
        "X_train, X_test, y_train, y_test = train_test_split(X, y, test_size=0.2, random_state=42)\n",
        "\n",
        "# Preparação dos dados (treinamento)\n",
        "X_train_normalized = normalize(X_train)\n",
        "y_train_normalized = y_train\n",
        "\n",
        "# Preparação dos dados (teste)\n",
        "X_test_normalized = normalize(X_test)\n",
        "y_test_normalized = y_test"
      ],
      "metadata": {
        "id": "nc3gAB34IDSJ"
      },
      "execution_count": null,
      "outputs": []
    },
    {
      "cell_type": "markdown",
      "source": [
        "###Dataset - classificação multiclasse"
      ],
      "metadata": {
        "id": "ApwkXMbnIIg0"
      }
    },
    {
      "cell_type": "code",
      "source": [
        "# Carregar o dataset do zoologico\n",
        "zoo = fetch_ucirepo(id=111)\n",
        "\n",
        "# Selecionar variáveis independentes (X) e dependentes (y)\n",
        "X = zoo.data.features\n",
        "y = zoo.data.targets\n",
        "\n",
        "# Aplicando One-Hot Encoding\n",
        "X = pd.get_dummies(X, columns=['legs'], prefix='legs', dtype=int)\n",
        "y_onehot = pd.get_dummies(y, columns=['type'], prefix='type', dtype=int)\n",
        "\n",
        "X = X.to_numpy()\n",
        "y_onehot = y_onehot.to_numpy()\n",
        "\n",
        "# Dividindo o dataset\n",
        "X_train, X_test, y_train, y_test = train_test_split(X, y_onehot, test_size=0.2, random_state=42)"
      ],
      "metadata": {
        "id": "0wvVZCO9IILH"
      },
      "execution_count": null,
      "outputs": []
    },
    {
      "cell_type": "markdown",
      "source": [
        "---\n",
        "## Instanciando Rede Neural"
      ],
      "metadata": {
        "id": "IMQ669BDJFY3"
      }
    },
    {
      "cell_type": "markdown",
      "source": [
        "### Iniciando funções de ativação"
      ],
      "metadata": {
        "id": "XM8cA9hDJqy6"
      }
    },
    {
      "cell_type": "code",
      "source": [
        "# Funções de ativação (ReLU para camadas ocultas, as outras para a saída)\n",
        "def relu(z):\n",
        "    return np.maximum(0, z)\n",
        "\n",
        "def relu_derivative(x):\n",
        "    return (x > 0).astype(float)\n",
        "\n",
        "def sigmoid(z):\n",
        "    z = np.clip(z, -500, 500)  # Limita valores extremos p/ evitar overflow\n",
        "    return 1 / (1 + np.exp(-z))\n",
        "\n",
        "def sigmoid_derivative(z):\n",
        "    s = sigmoid(z)\n",
        "    return s * (1 - s)\n",
        "\n",
        "def linear(x):\n",
        "    return x\n",
        "\n",
        "def linear_derivative(x):\n",
        "    return np.ones_like(x)\n",
        "\n",
        "def softmax(z):\n",
        "    exp_z = np.exp(z - np.max(z, axis=1, keepdims=True))  # Para evitar overflow\n",
        "    return exp_z / np.sum(exp_z, axis=1, keepdims=True)"
      ],
      "metadata": {
        "id": "0_w4tr7QJ0o_"
      },
      "execution_count": null,
      "outputs": []
    },
    {
      "cell_type": "markdown",
      "source": [
        "* A função ReLU transforma todos os valores negativos em zero e mantém os valores positivos. É muito utilizada em redes neurais, especialmente nas camadas ocultas.\n",
        "* A derivada da ReLU é usada na retropropagação. Ela retorna 1 se o valor for maior que zero e 0 caso contrário.\n",
        "* A função sigmoid transforma os valores para um intervalo entre 0 e 1, frequentemente usada em problemas de classificação binária. O np.clip é usado para evitar valores extremos que podem causar overflow de exponenciação.\n",
        "* A derivada da sigmoid é importante para a retropropagação. Ela calcula o gradiente da função em relação à sua entrada.\n",
        "* A função linear não altera o valor, ou seja, ela simplesmente retorna a entrada. Usada em tarefas de regressão.\n",
        "* A derivada da função linear é 1, pois a taxa de variação de uma reta é constante.\n",
        "* A função softmax é usada em problemas de classificação multiclasse. Ela transforma os valores em probabilidades, onde a soma das probabilidades para todas as classes é 1. A subtração do np.max(z) ajuda a evitar overflow ao calcular exponenciais."
      ],
      "metadata": {
        "id": "2TJmLujFJ_Kd"
      }
    },
    {
      "cell_type": "markdown",
      "source": [
        "### Iniciando funções de perda"
      ],
      "metadata": {
        "id": "lxt8QME-KeBh"
      }
    },
    {
      "cell_type": "code",
      "source": [
        "# Funções de perda\n",
        "def mse_loss(y_true, y_pred): # Erro quadrático médio\n",
        "    return np.mean((y_true - y_pred) ** 2)\n",
        "\n",
        "def mse_loss_derivative(y_true, y_pred):\n",
        "    return -2 * (y_true - y_pred) / y_true.size\n",
        "\n",
        "def categorical_crossentropy_loss(y_true, y_pred): # Entropria cruzada categórica\n",
        "    epsilon = 1e-15\n",
        "    y_pred = np.clip(y_pred, epsilon, 1 - epsilon)\n",
        "    return -np.mean(np.sum(y_true * np.log(y_pred), axis=1))\n",
        "\n",
        "def categorical_crossentropy_loss_derivative(y_true, y_pred):\n",
        "    return y_pred - y_true"
      ],
      "metadata": {
        "id": "XA7qWGTFKCDR"
      },
      "execution_count": null,
      "outputs": []
    },
    {
      "cell_type": "markdown",
      "source": [
        "* O erro quadrático médio (MSE) calcula a diferença entre o valor real e o valor predito, elevando ao quadrado para penalizar mais grandes erros.\n",
        "* A derivada da função MSE é usada para calcular o gradiente durante a retropropagação.\n",
        "* Cross-Entropy (binária e categórica): A função de perda de entropia cruzada é usada para problemas de classificação (binária e multiclasse). A ideia básica é que, se a probabilidade predita estiver próxima da verdadeira classe, a perda será pequena. Caso contrário, será grande.\n",
        "* A derivada da entropria cruzada é utilizada durante a retropropagação."
      ],
      "metadata": {
        "id": "f15Kkk6FKn16"
      }
    },
    {
      "cell_type": "markdown",
      "source": [
        "### Iniciando estrutura da Rede Neural"
      ],
      "metadata": {
        "id": "4isVZzzHLTPM"
      }
    },
    {
      "cell_type": "code",
      "source": [
        "class NeuralNetwork:\n",
        "    def __init__(self, input_size, hidden_size, output_size, learning_rate, output_activation='linear'):\n",
        "        self.learning_rate = learning_rate\n",
        "        self.output_activation = output_activation\n",
        "\n",
        "        # Inicialização dos pesos e bias\n",
        "        self.weights_input_hidden = np.random.randn(input_size, hidden_size) * 0.01\n",
        "        self.bias_hidden = np.zeros((1, hidden_size))\n",
        "\n",
        "        self.weights_hidden_output = np.random.randn(hidden_size, output_size) * 0.01\n",
        "        self.bias_output = np.zeros((1, output_size))\n",
        "\n",
        "    def forward(self, X):\n",
        "        self.hidden_input = np.dot(X, self.weights_input_hidden) + self.bias_hidden\n",
        "        self.hidden_output = relu(self.hidden_input)\n",
        "        self.final_input = np.dot(self.hidden_output, self.weights_hidden_output) + self.bias_output\n",
        "\n",
        "        if self.output_activation == 'linear':\n",
        "          self.final_output = linear(self.final_input)\n",
        "\n",
        "        elif self.output_activation == 'sigmoid':\n",
        "          self.final_output = sigmoid(self.final_input)\n",
        "\n",
        "        elif self.output_activation == 'softmax':\n",
        "          self.final_output = softmax(self.final_input)\n",
        "\n",
        "        return self.final_output\n",
        "\n",
        "    def backward(self, X, y, y_pred, loss_derivative):\n",
        "        # Erro na saída\n",
        "        if self.output_activation == 'linear':\n",
        "          output_error = loss_derivative(y, y_pred) * linear_derivative(self.final_input)\n",
        "\n",
        "        elif self.output_activation == 'sigmoid':\n",
        "          output_error = loss_derivative(y, y_pred) * sigmoid_derivative(self.final_input)\n",
        "\n",
        "        elif self.output_activation == 'softmax':\n",
        "          # A derivada da softmax já é calculada na entropia cruzada, por isso não precisa multiplicar como nas outras\n",
        "          output_error = loss_derivative(y, y_pred)\n",
        "\n",
        "        # Gradientes para pesos e bias da saída\n",
        "        weights_hidden_output_grad = np.dot(self.hidden_output.T, output_error)\n",
        "        bias_output_grad = np.sum(output_error, axis=0, keepdims=True)\n",
        "\n",
        "        # Erro na camada oculta\n",
        "        hidden_error = np.dot(output_error, self.weights_hidden_output.T) * relu_derivative(self.hidden_input)\n",
        "\n",
        "        # Gradientes para pesos e bias da camada oculta\n",
        "        weights_input_hidden_grad = np.dot(X.T, hidden_error)\n",
        "        bias_hidden_grad = np.sum(hidden_error, axis=0, keepdims=True)\n",
        "\n",
        "        # Atualização dos pesos e biases\n",
        "        self.weights_hidden_output -= self.learning_rate * weights_hidden_output_grad\n",
        "        self.bias_output -= self.learning_rate * bias_output_grad\n",
        "\n",
        "        self.weights_input_hidden -= self.learning_rate * weights_input_hidden_grad\n",
        "        self.bias_hidden -= self.learning_rate * bias_hidden_grad\n",
        "\n",
        "    def train(self, X_train, y_train, epochs, loss_function, loss_derivative, X_test=None, y_test=None):\n",
        "        train_losses = []\n",
        "        test_losses = []\n",
        "\n",
        "        for epoch in range(epochs):\n",
        "            # Forward\n",
        "            y_train_pred = self.forward(X_train)\n",
        "\n",
        "            # Cálculo do erro dos dados de treinamento\n",
        "            train_loss = loss_function(y_train, y_train_pred)\n",
        "            self.backward(X_train, y_train, y_train_pred, loss_derivative)\n",
        "            train_losses.append(train_loss)\n",
        "\n",
        "            # Cálculo do erro dos dados de teste sem atualização de parâmetros\n",
        "            if X_test is not None and y_test is not None:\n",
        "              y_test_pred = self.forward(X_test)\n",
        "              test_loss = loss_function(y_test, y_test_pred)\n",
        "              test_losses.append(test_loss)\n",
        "\n",
        "            if epoch % 10 == 0:\n",
        "                print(f\"Epoch {epoch} -> Train Loss: {train_loss:.4f}, Test Loss: {test_loss if X_test is not None else 'N/A'}\")\n",
        "\n",
        "        return train_losses, test_losses\n",
        "\n",
        "    def predict(self, X, type):\n",
        "      if type == 'binary':\n",
        "        y_pred = self.forward(X)\n",
        "        return (y_pred > 0.5).astype(int)  # Classificação binária\n",
        "\n",
        "      if type == 'multiclass':\n",
        "        y_pred = self.forward(X)\n",
        "        return np.argmax(y_pred, axis=1)  # Classificação multiclasse"
      ],
      "metadata": {
        "id": "GkwCIrOmLWyb"
      },
      "execution_count": null,
      "outputs": []
    },
    {
      "cell_type": "markdown",
      "source": [
        "1. `__init__`\n",
        "* Parâmetros: Inicializa os parâmetros necessários (tamanho da entrada, tamanho da camada oculta, tamanho da saída, taxa de aprendizado, tipo de ativação da saída).\n",
        "* Pesos e vieses: Os pesos são inicializados com valores aleatórios pequenos (multiplicados por 0.01 para evitar valores grandes), e os vieses são inicializados como zeros."
      ],
      "metadata": {
        "id": "qW8Xl7ggLc9N"
      }
    },
    {
      "cell_type": "markdown",
      "source": [
        "2. `forward`\n",
        "* Entrada na camada oculta: A entrada X é multiplicada pelos pesos e somada com o viés.\n",
        "* Ativação da camada oculta: A função ReLU é aplicada.\n",
        "* Entrada na camada de saída: A saída da camada oculta é multiplicada pelos pesos da camada de saída e somada com o viés de saída.\n",
        "* Função de ativação na camada de saída: A ativação apropriada é aplicada dependendo do parâmetro output_activation."
      ],
      "metadata": {
        "id": "SPmatUc-Litg"
      }
    },
    {
      "cell_type": "markdown",
      "source": [
        "3. `backward`\n",
        "\n",
        "A retropropagação calcula o erro da saída e propaga esse erro de volta para as camadas anteriores. Os gradientes para os pesos e vieses são calculados e depois usados para atualizar os parâmetros."
      ],
      "metadata": {
        "id": "k8DMfuMELtTb"
      }
    },
    {
      "cell_type": "markdown",
      "source": [
        "4. `train`\n",
        "\n",
        "O método train treina o modelo em X_train e y_train por um número de epochs, calculando a perda para os dados de treinamento e, opcionalmente, para os dados de teste. A cada 50 épocas, o progresso é impresso."
      ],
      "metadata": {
        "id": "CK-ELD57L4aQ"
      }
    },
    {
      "cell_type": "markdown",
      "source": [
        "Para classificação binária:\n",
        "1. self.forward(X): A entrada X é passada pela rede para gerar as previsões. A função forward retorna os valores de saída da rede neural.\n",
        "2. (y_pred > 0.5): A saída da rede geralmente estará no intervalo [0, 1] (como no caso de uma função de ativação sigmoide na camada de saída). O valor de 0.5 é usado como limiar. Se a previsão for maior que 0.5, a classe predita será 1, caso contrário, será 0.\n",
        "3. O .astype(int): Converte as previsões para valores inteiros (0 ou 1)."
      ],
      "metadata": {
        "id": "UVJIJypSMK58"
      }
    },
    {
      "cell_type": "markdown",
      "source": [
        "5. `predict`\n",
        "\n",
        "Para classificação multiclasse:\n",
        "1. self.forward(X): Como na classificação binária, a entrada X passa pela rede e as previsões são geradas.\n",
        "2. np.argmax(y_pred, axis=1): A rede neural gera uma distribuição de probabilidades para cada classe (geralmente com a função de ativação softmax na camada de saída).\n",
        "3. O np.argmax retorna o índice da classe com a maior probabilidade, o que corresponde à previsão da classe final."
      ],
      "metadata": {
        "id": "aVFpoHQyMWoz"
      }
    },
    {
      "cell_type": "markdown",
      "source": [
        "---\n",
        "## Treinamento dos modelos"
      ],
      "metadata": {
        "id": "2Y3-uyg4MpeN"
      }
    },
    {
      "cell_type": "markdown",
      "source": [
        "### Classificação binária"
      ],
      "metadata": {
        "id": "UYZcSKmSMxwj"
      }
    },
    {
      "cell_type": "code",
      "source": [
        "input_size = X_train_normalized.shape[1]\n",
        "hidden_size = 11 # Camada oculta\n",
        "output_size = y_train_normalized.shape[1] # Número de classes\n",
        "learning_rate = 0.01 # Taxa de aprendizado\n",
        "epochs = 55 # Épocas"
      ],
      "metadata": {
        "id": "uPfexYcjM4sA"
      },
      "execution_count": null,
      "outputs": []
    },
    {
      "cell_type": "markdown",
      "source": [
        "Definindo hiperparâmetros"
      ],
      "metadata": {
        "id": "MEuPOuRRNUnw"
      }
    },
    {
      "cell_type": "code",
      "source": [
        "# Inicializando a rede neural\n",
        "nn = NeuralNetwork(input_size, hidden_size, output_size, learning_rate, output_activation='sigmoid')\n",
        "\n",
        "# Treinando a rede\n",
        "train_losses, test_losses = nn.train(X_train_normalized, y_train_normalized, epochs,\n",
        "                                     categorical_crossentropy_loss, categorical_crossentropy_loss_derivative,\n",
        "                                     X_test=X_test_normalized, y_test=y_test_normalized)"
      ],
      "metadata": {
        "id": "5W2CjkdgNGVd",
        "colab": {
          "base_uri": "https://localhost:8080/"
        },
        "outputId": "81d3e5d6-e940-4e39-887b-261d174b48f8"
      },
      "execution_count": null,
      "outputs": [
        {
          "output_type": "stream",
          "name": "stdout",
          "text": [
            "Epoch 0 -> Train Loss: 0.2573, Test Loss: 0.28920944858612097\n",
            "Epoch 10 -> Train Loss: 0.0776, Test Loss: 0.06983921441672586\n",
            "Epoch 20 -> Train Loss: 0.0466, Test Loss: 0.04882765062506976\n",
            "Epoch 30 -> Train Loss: 0.0405, Test Loss: 0.04463270799555884\n",
            "Epoch 40 -> Train Loss: 0.0379, Test Loss: 0.04306537440140145\n",
            "Epoch 50 -> Train Loss: 0.0364, Test Loss: 0.04237552101816603\n"
          ]
        }
      ]
    },
    {
      "cell_type": "markdown",
      "source": [
        "A classe NeuralNetwork é instanciada com os hiperparâmetros definidos anteriormente.\n",
        "A rede neural é treinada usando a função train, passando os dados de treino e teste, a função de perda (binary_crossentropy_loss) e sua derivada (binary_crossentropy_loss_derivative)."
      ],
      "metadata": {
        "id": "Ea_gkZXBNZPN"
      }
    },
    {
      "cell_type": "code",
      "source": [
        "# Avaliação dos dados de treinamento\n",
        "y_pred_train = nn.predict(X_train_normalized, 'binary')\n",
        "accuracy_train = np.mean(y_pred_train == y_train_normalized) * 100\n",
        "print(f\"Acurácia no conjunto de dados de treinamento: {accuracy_train:.2f}%\")\n",
        "\n",
        "# Avaliação dos dados de teste\n",
        "y_pred_test = nn.predict(X_test_normalized, 'binary')\n",
        "accuracy_test = np.mean(y_pred_test == y_test_normalized) * 100\n",
        "print(f\"Acurácia no conjunto de dados de teste: {accuracy_test:.2f}%\")\n",
        "\n",
        "# Gráfico das perdas\n",
        "plt.plot(train_losses, label=\"Treinamento\")\n",
        "plt.plot(test_losses, label=\"Teste\")\n",
        "plt.title(\"Erro ao longo das épocas\")\n",
        "plt.xlabel(\"Épocas\")\n",
        "plt.ylabel(\"Erro\")\n",
        "plt.legend()\n",
        "plt.show()"
      ],
      "metadata": {
        "id": "cHpJ4mmbNNHj",
        "colab": {
          "base_uri": "https://localhost:8080/",
          "height": 509
        },
        "outputId": "76ac31cb-6a80-4122-de57-9328b744d788"
      },
      "execution_count": null,
      "outputs": [
        {
          "output_type": "stream",
          "name": "stdout",
          "text": [
            "Acurácia no conjunto de dados de treinamento: 98.24%\n",
            "Acurácia no conjunto de dados de teste: 98.25%\n"
          ]
        },
        {
          "output_type": "display_data",
          "data": {
            "text/plain": [
              "<Figure size 640x480 with 1 Axes>"
            ],
            "image/png": "[encoded data removed]"
          },
          "metadata": {}
        }
      ]
    },
    {
      "cell_type": "markdown",
      "source": [
        "### Regressão"
      ],
      "metadata": {
        "id": "x8h4L2SsNdbZ"
      }
    },
    {
      "cell_type": "code",
      "source": [
        "# Função para calcular o coeficiente de determinação (R2) para o problema de regressão\n",
        "def r2_score(y_true, y_pred):\n",
        "    ss_total = np.sum((y_true - np.mean(y_true)) ** 2)\n",
        "    ss_residual = np.sum((y_true - y_pred) ** 2)\n",
        "    return 1 - (ss_residual / ss_total)"
      ],
      "metadata": {
        "id": "Iit1kaJDOt2-"
      },
      "execution_count": null,
      "outputs": []
    },
    {
      "cell_type": "markdown",
      "source": [
        "Essa função calcula o coeficiente de determinação (R²), que é usado em regressão para medir a qualidade do ajuste do modelo.\n"
      ],
      "metadata": {
        "id": "dWNZQpKEOyYu"
      }
    },
    {
      "cell_type": "code",
      "source": [
        "input_size = X_train_normalized.shape[1]\n",
        "hidden_size = 20 # Camada oculta\n",
        "output_size = 1 # Número de classes\n",
        "learning_rate = 0.1 # Taxa de aprendizado\n",
        "epochs = 50 # Épocas"
      ],
      "metadata": {
        "id": "JjR-G5hyNoIZ"
      },
      "execution_count": null,
      "outputs": []
    },
    {
      "cell_type": "markdown",
      "source": [
        "Definindo hiperparâmetros\n"
      ],
      "metadata": {
        "id": "_pJUiHElNpHn"
      }
    },
    {
      "cell_type": "code",
      "source": [
        "# Inicializando a rede neural\n",
        "nn = NeuralNetwork(input_size, hidden_size, output_size, learning_rate)\n",
        "\n",
        "# Treinando a rede\n",
        "train_losses, test_losses = nn.train(X_train_normalized, y_train_normalized, epochs,\n",
        "                                     mse_loss, mse_loss_derivative,\n",
        "                                     X_test=X_test_normalized, y_test=y_test_normalized)"
      ],
      "metadata": {
        "id": "ljT0IlTdNp3V",
        "colab": {
          "base_uri": "https://localhost:8080/"
        },
        "outputId": "dcbff82d-61e0-425b-dd8c-5afe070d664b"
      },
      "execution_count": null,
      "outputs": [
        {
          "output_type": "stream",
          "name": "stdout",
          "text": [
            "Epoch 0 -> Train Loss: 0.9987, Test Loss: 1.0038590989526222\n",
            "Epoch 10 -> Train Loss: 0.9900, Test Loss: 0.9932236469479836\n",
            "Epoch 20 -> Train Loss: 0.9066, Test Loss: 0.8893201672250037\n",
            "Epoch 30 -> Train Loss: 0.4093, Test Loss: 0.34358944779931744\n",
            "Epoch 40 -> Train Loss: 0.0370, Test Loss: 0.034169529430412016\n"
          ]
        }
      ]
    },
    {
      "cell_type": "markdown",
      "source": [
        "A classe NeuralNetwork é instanciada com os hiperparâmetros definidos anteriormente. A rede neural é treinada usando a função train, passando os dados de treino e teste, a função de perda (mse_loss) e sua derivada (mse_loss_derivative)."
      ],
      "metadata": {
        "id": "MMhrOV2eNt5U"
      }
    },
    {
      "cell_type": "code",
      "source": [
        "# Avaliação dos dados de treinamento\n",
        "y_train_pred = nn.forward(X_train_normalized)\n",
        "r2_train = r2_score(y_train_normalized, y_train_pred)\n",
        "print(f\"Coeficiente de Determinação (R2) - treinamento: {r2_train}\")\n",
        "\n",
        "# Avaliação dos dados de teste\n",
        "y_test_pred = nn.forward(X_test_normalized)\n",
        "r2_test = r2_score(y_test_normalized, y_test_pred)\n",
        "print(f\"Coeficiente de Determinação (R2) - teste: {r2_test}\")\n",
        "\n",
        "# Gráfico das perdas\n",
        "plt.plot(train_losses, label=\"Treinamento\")\n",
        "plt.plot(test_losses, label=\"Teste\")\n",
        "plt.title(\"Erro ao longo das épocas\")\n",
        "plt.xlabel(\"Épocas\")\n",
        "plt.ylabel(\"Erro\")\n",
        "plt.legend()\n",
        "plt.show()"
      ],
      "metadata": {
        "id": "s7o4xaaMNy7Y",
        "colab": {
          "base_uri": "https://localhost:8080/",
          "height": 509
        },
        "outputId": "6e121e2b-ebdb-4761-ef4f-a2df447a7d72"
      },
      "execution_count": null,
      "outputs": [
        {
          "output_type": "stream",
          "name": "stdout",
          "text": [
            "Coeficiente de Determinação (R2) - treinamento: 0.9736973652598925\n",
            "Coeficiente de Determinação (R2) - teste: 0.9732636634076236\n"
          ]
        },
        {
          "output_type": "display_data",
          "data": {
            "text/plain": [
              "<Figure size 640x480 with 1 Axes>"
            ],
            "image/png": "[encoded data removed]"
          },
          "metadata": {}
        }
      ]
    },
    {
      "cell_type": "markdown",
      "source": [
        "### Classificação multiclasse"
      ],
      "metadata": {
        "id": "5DXvs_fhN1mm"
      }
    },
    {
      "cell_type": "code",
      "source": [
        "input_size = X_train.shape[1]\n",
        "hidden_size = 10 # Camada oculta\n",
        "output_size = y_train.shape[1]  # Número de classes\n",
        "learning_rate = 0.009 # Taxa de aprendizado\n",
        "epochs = 55 # Épocas"
      ],
      "metadata": {
        "id": "Dqlmm8eON3ro"
      },
      "execution_count": null,
      "outputs": []
    },
    {
      "cell_type": "markdown",
      "source": [
        "Definindo hiperparâmetros"
      ],
      "metadata": {
        "id": "T_HtOxkjN8lB"
      }
    },
    {
      "cell_type": "code",
      "source": [
        "# Inicializando a rede neural\n",
        "nn = NeuralNetwork(input_size, hidden_size, output_size, learning_rate, output_activation='softmax')\n",
        "\n",
        "# Treinando a rede\n",
        "train_losses, test_losses = nn.train(X_train, y_train, epochs,\n",
        "                                     categorical_crossentropy_loss,\n",
        "                                     categorical_crossentropy_loss_derivative,\n",
        "                                     X_test=X_test, y_test=y_test)"
      ],
      "metadata": {
        "id": "5h0Dc6VQN7C7",
        "colab": {
          "base_uri": "https://localhost:8080/"
        },
        "outputId": "d2a8b605-c13f-46e0-c532-326d4ba89bd5"
      },
      "execution_count": null,
      "outputs": [
        {
          "output_type": "stream",
          "name": "stdout",
          "text": [
            "Epoch 0 -> Train Loss: 1.9458, Test Loss: 1.8651691891253388\n",
            "Epoch 10 -> Train Loss: 1.5338, Test Loss: 1.1764012856127182\n",
            "Epoch 20 -> Train Loss: 0.9725, Test Loss: 0.7836508585435052\n",
            "Epoch 30 -> Train Loss: 0.7291, Test Loss: 0.6253137368200798\n",
            "Epoch 40 -> Train Loss: 0.5431, Test Loss: 0.5145080226603433\n",
            "Epoch 50 -> Train Loss: 0.4081, Test Loss: 0.4415420052809355\n"
          ]
        }
      ]
    },
    {
      "cell_type": "markdown",
      "source": [
        "A classe NeuralNetwork é instanciada com os hiperparâmetros definidos anteriormente mais a função de ativação que, nesse caso, é softmax. A rede neural é treinada usando a função train, passando os dados de treino e teste, a função de perda (categorical_crossentropy_loss) e sua derivada (categorical_crossentropy_loss_derivative)."
      ],
      "metadata": {
        "id": "-4nhaeFPN-gn"
      }
    },
    {
      "cell_type": "code",
      "source": [
        "# Avaliação dos dados de treinamento\n",
        "y_pred_train = nn.predict(X_train, 'multiclass')\n",
        "accuracy_train = np.mean(np.argmax(y_train, axis=1) == y_pred_train) * 100\n",
        "print(f\"Acurácia no conjunto dados de treinamento: {accuracy_train:.2f}%\")\n",
        "\n",
        "# Avaliação dos dados de teste\n",
        "y_pred_test = nn.predict(X_test, 'multiclass')\n",
        "accuracy_test = np.mean(np.argmax(y_test, axis=1) == y_pred_test) * 100\n",
        "print(f\"Acurácia no conjunto de dados de teste: {accuracy_test:.2f}%\")\n",
        "\n",
        "# Gráfico das perdas\n",
        "plt.plot(train_losses, label=\"Treinamento\")\n",
        "plt.plot(test_losses, label=\"Teste\")\n",
        "plt.title(\"Erro ao longo das épocas\")\n",
        "plt.xlabel(\"Épocas\")\n",
        "plt.ylabel(\"Erro\")\n",
        "plt.legend()\n",
        "plt.show()"
      ],
      "metadata": {
        "id": "vdFngY2XORL8",
        "colab": {
          "base_uri": "https://localhost:8080/",
          "height": 509
        },
        "outputId": "565830c0-eae6-4c05-d0ac-6a7ca78a82c2"
      },
      "execution_count": null,
      "outputs": [
        {
          "output_type": "stream",
          "name": "stdout",
          "text": [
            "Acurácia no conjunto dados de treinamento: 91.25%\n",
            "Acurácia no conjunto de dados de teste: 80.95%\n"
          ]
        },
        {
          "output_type": "display_data",
          "data": {
            "text/plain": [
              "<Figure size 640x480 with 1 Axes>"
            ],
            "image/png": "[encoded data removed]"
          },
          "metadata": {}
        }
      ]
    }
  ]
}